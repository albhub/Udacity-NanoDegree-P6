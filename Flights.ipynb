{
 "cells": [
  {
   "cell_type": "code",
   "execution_count": 46,
   "metadata": {
    "collapsed": true
   },
   "outputs": [],
   "source": [
    "import os, sys\n",
    "import numpy as np\n",
    "import pandas as pd \n",
    "import matplotlib.pyplot as plt\n",
    "%matplotlib inline"
   ]
  },
  {
   "cell_type": "markdown",
   "metadata": {},
   "source": [
    "Investigate the performance of flights over time or simply look at data for a given year and create a graphic that showcases your finding(s)."
   ]
  },
  {
   "cell_type": "code",
   "execution_count": 49,
   "metadata": {
    "collapsed": false
   },
   "outputs": [],
   "source": [
    "def addDate(df):\n",
    "    import datetime \n",
    "    #df = df.head(100000)\n",
    "\n",
    "    dt = df[['Year', 'Month', 'DayofMonth']]\n",
    "    dt.columns = [\"year\", \"month\", \"day\"]\n",
    "    dt.head(2)\n",
    "\n",
    "    #pd.to_datetime(dt[\"year\", \"month\", \"day\"])\n",
    "    df[\"Date\"] = pd.to_datetime(dt.year*10000 + dt.month*100 + dt.day, format='%Y%m%d')\n",
    "    return df"
   ]
  },
  {
   "cell_type": "code",
   "execution_count": 104,
   "metadata": {
    "collapsed": true
   },
   "outputs": [],
   "source": [
    "## From http://www.transtats.bts.gov/ot_delay/OT_DelayCause1.asp?pn=1\n",
    "## Download file: http://www.transtats.bts.gov/ot_delay/ot_delaycause1.asp?display=download&pn=0&month=6&year=2016"
   ]
  },
  {
   "cell_type": "code",
   "execution_count": 47,
   "metadata": {
    "collapsed": false
   },
   "outputs": [],
   "source": [
    "df_delays = pd.read_csv(\"./rawData/airline_delay_causes.csv\")"
   ]
  },
  {
   "cell_type": "code",
   "execution_count": 105,
   "metadata": {
    "collapsed": true
   },
   "outputs": [],
   "source": [
    "## Download yearly files\n",
    "## http://stat-computing.org/dataexpo/2009/1992.csv.bz2"
   ]
  },
  {
   "cell_type": "markdown",
   "metadata": {},
   "source": [
    "http://stat-computing.org/dataexpo/2009/the-data.html"
   ]
  },
  {
   "cell_type": "code",
   "execution_count": 95,
   "metadata": {
    "collapsed": false
   },
   "outputs": [
    {
     "name": "stdout",
     "output_type": "stream",
     "text": [
      " Reading  2004\n",
      " Reading  2005\n",
      " Dataframe with 14269866 registers and the folloging data columns: \n",
      " Year, Month, DayofMonth, DayOfWeek, DepTime, CRSDepTime, ArrTime, CRSArrTime, UniqueCarrier, FlightNum, TailNum, ActualElapsedTime, CRSElapsedTime, AirTime, ArrDelay, DepDelay, Origin, Dest, Distance, TaxiIn, TaxiOut, Cancelled, CancellationCode, Diverted, CarrierDelay, WeatherDelay, NASDelay, SecurityDelay, LateAircraftDelay, Date\n"
     ]
    }
   ],
   "source": [
    "#years = [1990,1991,1992,1993]\n",
    "years = range(2004,2006)\n",
    "print (\" Reading \", years[0])\n",
    "df_orig = pd.read_csv(\"./rawData/{0}.csv.bz2\".format(years[0]))\n",
    "for kyear in years[1:]:\n",
    "    print (\" Reading \", kyear)\n",
    "    df_orig = pd.concat([df_orig,pd.read_csv(\"./rawData/{0}.csv.bz2\".format(kyear))])\n",
    "\n",
    "df_orig = addDate(df_orig)\n",
    "\n",
    "print(\" Dataframe with {0} registers and the folloging data columns: \\n {1}\".format(\n",
    "        len(df_orig), \", \".join(df_orig.columns)))"
   ]
  },
  {
   "cell_type": "markdown",
   "metadata": {},
   "source": [
    "# Carriers names"
   ]
  },
  {
   "cell_type": "code",
   "execution_count": 102,
   "metadata": {
    "collapsed": false
   },
   "outputs": [
    {
     "name": "stdout",
     "output_type": "stream",
     "text": [
      " Number of carriers 20 (Code):\n",
      "\tHP, AS, EV, UA, TZ, CO, AA, B6, FL, OO, WN, US, OH, HA, DL, MQ, NW, DH, F9, XE\n"
     ]
    }
   ],
   "source": [
    "Carriers = set(df_orig[\"UniqueCarrier\"].values.tolist())\n",
    "print(\" Number of carriers {0} (Code):\\n\\t{1}\".format(len(Carriers), \", \".join(Carriers)))"
   ]
  },
  {
   "cell_type": "code",
   "execution_count": 103,
   "metadata": {
    "collapsed": false
   },
   "outputs": [
    {
     "name": "stdout",
     "output_type": "stream",
     "text": [
      " Number of carriers 20 (Names):\n",
      "\tAmerica West Airlines Inc.,\n",
      "\tAlaska Airlines Inc.,\n",
      "\tExpressJet Airlines Inc.,\n",
      "\tUnited Air Lines Inc.,\n",
      "\tATA Airlines d/b/a ATA,\n",
      "\tContinental Air Lines Inc.,\n",
      "\tAmerican Airlines Inc.,\n",
      "\tJetBlue Airways,\n",
      "\tAirTran Airways Corporation,\n",
      "\tSkyWest Airlines Inc.,\n",
      "\tSouthwest Airlines Co.,\n",
      "\tUS Airways Inc.,\n",
      "\tComair Inc.,\n",
      "\tHawaiian Airlines Inc.,\n",
      "\tDelta Air Lines Inc.,\n",
      "\tEnvoy Air,\n",
      "\tNorthwest Airlines Inc.,\n",
      "\tIndependence Air,\n",
      "\tFrontier Airlines Inc.,\n",
      "\tExpressJet Airlines Inc.\n"
     ]
    }
   ],
   "source": [
    "def genNamesDict(df_delays):\n",
    "    cD = df_delays[[\"carrier\",\"carrier_name\"]].drop_duplicates()\n",
    "    return cD.set_index(\"carrier\").to_dict()[\"carrier_name\"]\n",
    "\n",
    "cd = genNamesDict(df_delays)\n",
    "cd = [cd[i] for i in Carriers]\n",
    "print(\" Number of carriers {0} (Names):\\n\\t{1}\".format(len(Carriers), \",\\n\\t\".join(cd)))"
   ]
  },
  {
   "cell_type": "markdown",
   "metadata": {},
   "source": [
    "# Data"
   ]
  },
  {
   "cell_type": "code",
   "execution_count": 96,
   "metadata": {
    "collapsed": true
   },
   "outputs": [],
   "source": [
    "def defineDataFrame(dff, selK, keep=[]):\n",
    "    \n",
    "    dfw = dff.copy()\n",
    "\n",
    "    if not keep == []:\n",
    "        # Keep indexes\n",
    "        keep = keep + selK \n",
    "        for kcol in df.columns:\n",
    "            if kcol not in keep:\n",
    "                #print(\"Removing \", kcol)\n",
    "                dfw.drop(kcol, inplace=True, axis=1)\n",
    "    print(\"Counting\")\n",
    "    grBCou = dfw.groupby(by=selK).count() #.unstack()\n",
    "    print(\"Summing\")\n",
    "    grBSum = dfw.groupby(by=selK).sum()\n",
    "    print(\"Averaging\")\n",
    "    grBAvg = dfw.groupby(by=selK).mean()\n",
    "    #grBCou.reset_index()\n",
    "\n",
    "    dfr = grBAvg.join(\n",
    "            grBSum, how=\"outer\", \n",
    "            rsuffix=\"_sum\").join(\n",
    "            grBCou, how=\"outer\", \n",
    "            lsuffix=\"_avg\", rsuffix=\"_count\").reset_index()\n",
    "\n",
    "    #print(dfr.columns)\n",
    "    return dfr"
   ]
  },
  {
   "cell_type": "code",
   "execution_count": 97,
   "metadata": {
    "collapsed": false
   },
   "outputs": [],
   "source": [
    "df = df_orig.copy()"
   ]
  },
  {
   "cell_type": "code",
   "execution_count": 98,
   "metadata": {
    "collapsed": false
   },
   "outputs": [
    {
     "data": {
      "text/plain": [
       "Index(['Year', 'Month', 'DayofMonth', 'DayOfWeek', 'DepTime', 'CRSDepTime',\n",
       "       'ArrTime', 'CRSArrTime', 'UniqueCarrier', 'FlightNum', 'TailNum',\n",
       "       'ActualElapsedTime', 'CRSElapsedTime', 'AirTime', 'ArrDelay',\n",
       "       'DepDelay', 'Origin', 'Dest', 'Distance', 'TaxiIn', 'TaxiOut',\n",
       "       'Cancelled', 'CancellationCode', 'Diverted', 'CarrierDelay',\n",
       "       'WeatherDelay', 'NASDelay', 'SecurityDelay', 'LateAircraftDelay',\n",
       "       'Date'],\n",
       "      dtype='object')"
      ]
     },
     "execution_count": 98,
     "metadata": {},
     "output_type": "execute_result"
    }
   ],
   "source": [
    "df.columns"
   ]
  },
  {
   "cell_type": "code",
   "execution_count": 99,
   "metadata": {
    "collapsed": false
   },
   "outputs": [
    {
     "data": {
      "text/html": [
       "<div>\n",
       "<table border=\"1\" class=\"dataframe\">\n",
       "  <thead>\n",
       "    <tr style=\"text-align: right;\">\n",
       "      <th></th>\n",
       "      <th>Year</th>\n",
       "      <th>Month</th>\n",
       "      <th>DayofMonth</th>\n",
       "      <th>DayOfWeek</th>\n",
       "      <th>DepTime</th>\n",
       "      <th>CRSDepTime</th>\n",
       "      <th>ArrTime</th>\n",
       "      <th>CRSArrTime</th>\n",
       "      <th>UniqueCarrier</th>\n",
       "      <th>FlightNum</th>\n",
       "      <th>...</th>\n",
       "      <th>TaxiOut</th>\n",
       "      <th>Cancelled</th>\n",
       "      <th>CancellationCode</th>\n",
       "      <th>Diverted</th>\n",
       "      <th>CarrierDelay</th>\n",
       "      <th>WeatherDelay</th>\n",
       "      <th>NASDelay</th>\n",
       "      <th>SecurityDelay</th>\n",
       "      <th>LateAircraftDelay</th>\n",
       "      <th>Date</th>\n",
       "    </tr>\n",
       "  </thead>\n",
       "  <tbody>\n",
       "    <tr>\n",
       "      <th>0</th>\n",
       "      <td>2004</td>\n",
       "      <td>1</td>\n",
       "      <td>12</td>\n",
       "      <td>1</td>\n",
       "      <td>623.0</td>\n",
       "      <td>630</td>\n",
       "      <td>901.0</td>\n",
       "      <td>915</td>\n",
       "      <td>UA</td>\n",
       "      <td>462</td>\n",
       "      <td>...</td>\n",
       "      <td>11</td>\n",
       "      <td>0</td>\n",
       "      <td>NaN</td>\n",
       "      <td>0</td>\n",
       "      <td>0</td>\n",
       "      <td>0</td>\n",
       "      <td>0</td>\n",
       "      <td>0</td>\n",
       "      <td>0</td>\n",
       "      <td>2004-01-12</td>\n",
       "    </tr>\n",
       "    <tr>\n",
       "      <th>1</th>\n",
       "      <td>2004</td>\n",
       "      <td>1</td>\n",
       "      <td>13</td>\n",
       "      <td>2</td>\n",
       "      <td>621.0</td>\n",
       "      <td>630</td>\n",
       "      <td>911.0</td>\n",
       "      <td>915</td>\n",
       "      <td>UA</td>\n",
       "      <td>462</td>\n",
       "      <td>...</td>\n",
       "      <td>16</td>\n",
       "      <td>0</td>\n",
       "      <td>NaN</td>\n",
       "      <td>0</td>\n",
       "      <td>0</td>\n",
       "      <td>0</td>\n",
       "      <td>0</td>\n",
       "      <td>0</td>\n",
       "      <td>0</td>\n",
       "      <td>2004-01-13</td>\n",
       "    </tr>\n",
       "    <tr>\n",
       "      <th>2</th>\n",
       "      <td>2004</td>\n",
       "      <td>1</td>\n",
       "      <td>14</td>\n",
       "      <td>3</td>\n",
       "      <td>633.0</td>\n",
       "      <td>630</td>\n",
       "      <td>920.0</td>\n",
       "      <td>915</td>\n",
       "      <td>UA</td>\n",
       "      <td>462</td>\n",
       "      <td>...</td>\n",
       "      <td>15</td>\n",
       "      <td>0</td>\n",
       "      <td>NaN</td>\n",
       "      <td>0</td>\n",
       "      <td>0</td>\n",
       "      <td>0</td>\n",
       "      <td>0</td>\n",
       "      <td>0</td>\n",
       "      <td>0</td>\n",
       "      <td>2004-01-14</td>\n",
       "    </tr>\n",
       "    <tr>\n",
       "      <th>3</th>\n",
       "      <td>2004</td>\n",
       "      <td>1</td>\n",
       "      <td>15</td>\n",
       "      <td>4</td>\n",
       "      <td>627.0</td>\n",
       "      <td>630</td>\n",
       "      <td>859.0</td>\n",
       "      <td>915</td>\n",
       "      <td>UA</td>\n",
       "      <td>462</td>\n",
       "      <td>...</td>\n",
       "      <td>10</td>\n",
       "      <td>0</td>\n",
       "      <td>NaN</td>\n",
       "      <td>0</td>\n",
       "      <td>0</td>\n",
       "      <td>0</td>\n",
       "      <td>0</td>\n",
       "      <td>0</td>\n",
       "      <td>0</td>\n",
       "      <td>2004-01-15</td>\n",
       "    </tr>\n",
       "    <tr>\n",
       "      <th>4</th>\n",
       "      <td>2004</td>\n",
       "      <td>1</td>\n",
       "      <td>16</td>\n",
       "      <td>5</td>\n",
       "      <td>635.0</td>\n",
       "      <td>630</td>\n",
       "      <td>918.0</td>\n",
       "      <td>915</td>\n",
       "      <td>UA</td>\n",
       "      <td>462</td>\n",
       "      <td>...</td>\n",
       "      <td>13</td>\n",
       "      <td>0</td>\n",
       "      <td>NaN</td>\n",
       "      <td>0</td>\n",
       "      <td>0</td>\n",
       "      <td>0</td>\n",
       "      <td>0</td>\n",
       "      <td>0</td>\n",
       "      <td>0</td>\n",
       "      <td>2004-01-16</td>\n",
       "    </tr>\n",
       "  </tbody>\n",
       "</table>\n",
       "<p>5 rows × 30 columns</p>\n",
       "</div>"
      ],
      "text/plain": [
       "   Year  Month  DayofMonth  DayOfWeek  DepTime  CRSDepTime  ArrTime  \\\n",
       "0  2004      1          12          1    623.0         630    901.0   \n",
       "1  2004      1          13          2    621.0         630    911.0   \n",
       "2  2004      1          14          3    633.0         630    920.0   \n",
       "3  2004      1          15          4    627.0         630    859.0   \n",
       "4  2004      1          16          5    635.0         630    918.0   \n",
       "\n",
       "   CRSArrTime UniqueCarrier  FlightNum    ...     TaxiOut  Cancelled  \\\n",
       "0         915            UA        462    ...          11          0   \n",
       "1         915            UA        462    ...          16          0   \n",
       "2         915            UA        462    ...          15          0   \n",
       "3         915            UA        462    ...          10          0   \n",
       "4         915            UA        462    ...          13          0   \n",
       "\n",
       "   CancellationCode  Diverted  CarrierDelay  WeatherDelay NASDelay  \\\n",
       "0               NaN         0             0             0        0   \n",
       "1               NaN         0             0             0        0   \n",
       "2               NaN         0             0             0        0   \n",
       "3               NaN         0             0             0        0   \n",
       "4               NaN         0             0             0        0   \n",
       "\n",
       "  SecurityDelay  LateAircraftDelay       Date  \n",
       "0             0                  0 2004-01-12  \n",
       "1             0                  0 2004-01-13  \n",
       "2             0                  0 2004-01-14  \n",
       "3             0                  0 2004-01-15  \n",
       "4             0                  0 2004-01-16  \n",
       "\n",
       "[5 rows x 30 columns]"
      ]
     },
     "execution_count": 99,
     "metadata": {},
     "output_type": "execute_result"
    }
   ],
   "source": [
    "df.head()"
   ]
  },
  {
   "cell_type": "code",
   "execution_count": 100,
   "metadata": {
    "collapsed": false
   },
   "outputs": [
    {
     "name": "stdout",
     "output_type": "stream",
     "text": [
      "Counting\n",
      "Summing\n",
      "Averaging\n"
     ]
    },
    {
     "data": {
      "text/html": [
       "<div>\n",
       "<table border=\"1\" class=\"dataframe\">\n",
       "  <thead>\n",
       "    <tr style=\"text-align: right;\">\n",
       "      <th></th>\n",
       "      <th>Date</th>\n",
       "      <th>Cancelled_avg</th>\n",
       "      <th>Cancelled_sum</th>\n",
       "      <th>Cancelled_count</th>\n",
       "    </tr>\n",
       "  </thead>\n",
       "  <tbody>\n",
       "    <tr>\n",
       "      <th>0</th>\n",
       "      <td>2004-01-01</td>\n",
       "      <td>0.011564</td>\n",
       "      <td>199</td>\n",
       "      <td>17209</td>\n",
       "    </tr>\n",
       "    <tr>\n",
       "      <th>1</th>\n",
       "      <td>2004-01-02</td>\n",
       "      <td>0.032011</td>\n",
       "      <td>610</td>\n",
       "      <td>19056</td>\n",
       "    </tr>\n",
       "  </tbody>\n",
       "</table>\n",
       "</div>"
      ],
      "text/plain": [
       "        Date  Cancelled_avg  Cancelled_sum  Cancelled_count\n",
       "0 2004-01-01       0.011564            199            17209\n",
       "1 2004-01-02       0.032011            610            19056"
      ]
     },
     "execution_count": 100,
     "metadata": {},
     "output_type": "execute_result"
    }
   ],
   "source": [
    "selK = [\"Date\"]\n",
    "delays = [\"Cancelled\"]\n",
    "df2 = defineDataFrame(df, selK, delays)\n",
    "\n",
    "df2.head(2)"
   ]
  },
  {
   "cell_type": "code",
   "execution_count": 101,
   "metadata": {
    "collapsed": false
   },
   "outputs": [],
   "source": [
    "### Date vs mean delay \n",
    "df2.set_index(\"Date\").to_csv(\"data/fligths-DateCancelled.csv\")"
   ]
  },
  {
   "cell_type": "code",
   "execution_count": null,
   "metadata": {
    "collapsed": true
   },
   "outputs": [],
   "source": []
  }
 ],
 "metadata": {
  "kernelspec": {
   "display_name": "Python 3",
   "language": "python",
   "name": "python3"
  },
  "language_info": {
   "codemirror_mode": {
    "name": "ipython",
    "version": 3
   },
   "file_extension": ".py",
   "mimetype": "text/x-python",
   "name": "python",
   "nbconvert_exporter": "python",
   "pygments_lexer": "ipython3",
   "version": "3.5.1"
  }
 },
 "nbformat": 4,
 "nbformat_minor": 0
}
